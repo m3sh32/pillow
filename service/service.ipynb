{
 "cells": [
  {
   "cell_type": "code",
   "execution_count": 11,
   "metadata": {},
   "outputs": [],
   "source": [
    "import os\n",
    "import requests\n",
    "from dotenv import load_dotenv\n",
    "load_dotenv()\n",
    "\n",
    "endpoint = os.environ[\"AWS_API_GATEWAY_ENDPOINT\"]"
   ]
  },
  {
   "cell_type": "code",
   "execution_count": 12,
   "metadata": {},
   "outputs": [
    {
     "data": {
      "text/plain": [
       "{'version': '2.0',\n",
       " 'routeKey': '$default',\n",
       " 'rawPath': '/something',\n",
       " 'rawQueryString': 'foo=bar',\n",
       " 'headers': {'accept': '*/*',\n",
       "  'accept-encoding': 'gzip, deflate, br',\n",
       "  'content-length': '0',\n",
       "  'host': 'f8m11ot12a.execute-api.us-east-1.amazonaws.com',\n",
       "  'user-agent': 'python-requests/2.28.2',\n",
       "  'x-amzn-trace-id': 'Root=1-63dcf96f-2cad1a303f99c9c24f8ca803',\n",
       "  'x-forwarded-for': '155.133.78.23',\n",
       "  'x-forwarded-port': '443',\n",
       "  'x-forwarded-proto': 'https'},\n",
       " 'queryStringParameters': {'foo': 'bar'},\n",
       " 'requestContext': {'accountId': '216318216660',\n",
       "  'apiId': 'f8m11ot12a',\n",
       "  'domainName': 'f8m11ot12a.execute-api.us-east-1.amazonaws.com',\n",
       "  'domainPrefix': 'f8m11ot12a',\n",
       "  'http': {'method': 'GET',\n",
       "   'path': '/something',\n",
       "   'protocol': 'HTTP/1.1',\n",
       "   'sourceIp': '155.133.78.23',\n",
       "   'userAgent': 'python-requests/2.28.2'},\n",
       "  'requestId': 'fwvpfiz-IAMEJtg=',\n",
       "  'routeKey': '$default',\n",
       "  'stage': '$default',\n",
       "  'time': '03/Feb/2023:12:09:19 +0000',\n",
       "  'timeEpoch': 1675426159740},\n",
       " 'isBase64Encoded': False}"
      ]
     },
     "execution_count": 12,
     "metadata": {},
     "output_type": "execute_result"
    }
   ],
   "source": [
    "r = requests.get(endpoint + \"/something\", params={\"foo\": \"bar\"})\n",
    "r.json()"
   ]
  },
  {
   "cell_type": "code",
   "execution_count": null,
   "metadata": {},
   "outputs": [],
   "source": [
    "token = 'THIS-IS-MY-API-KEY'\n",
    "r = requests.get(endpoint + \"/secret\", headers={\"Authorization\": f\"Bearer {token}\"})\n",
    "r.json()"
   ]
  }
 ],
 "metadata": {
  "kernelspec": {
   "display_name": "pillow",
   "language": "python",
   "name": "python3"
  },
  "language_info": {
   "codemirror_mode": {
    "name": "ipython",
    "version": 3
   },
   "file_extension": ".py",
   "mimetype": "text/x-python",
   "name": "python",
   "nbconvert_exporter": "python",
   "pygments_lexer": "ipython3",
   "version": "3.10.9"
  },
  "orig_nbformat": 4,
  "vscode": {
   "interpreter": {
    "hash": "d56a1d5c41f59a7951809e0e43760220df0e79b297dd0090cf88b3854f685f3a"
   }
  }
 },
 "nbformat": 4,
 "nbformat_minor": 2
}
