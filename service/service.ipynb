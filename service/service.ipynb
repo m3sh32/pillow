{
 "cells": [
  {
   "cell_type": "code",
   "execution_count": 2,
   "metadata": {},
   "outputs": [],
   "source": [
    "import os\n",
    "import requests\n",
    "from dotenv import load_dotenv\n",
    "load_dotenv()\n",
    "\n",
    "endpoint = os.environ[\"AWS_API_GATEWAY_ENDPOINT\"]"
   ]
  },
  {
   "cell_type": "code",
   "execution_count": 11,
   "metadata": {},
   "outputs": [
    {
     "data": {
      "text/plain": [
       "{'message': 'Unauthorized'}"
      ]
     },
     "execution_count": 11,
     "metadata": {},
     "output_type": "execute_result"
    }
   ],
   "source": [
    "r = requests.get(endpoint + \"/secret\", params={\"foo\": \"bar\"})\n",
    "r.json()"
   ]
  },
  {
   "cell_type": "code",
   "execution_count": 17,
   "metadata": {},
   "outputs": [
    {
     "data": {
      "text/plain": [
       "{'message': 'Internal Server Error'}"
      ]
     },
     "execution_count": 17,
     "metadata": {},
     "output_type": "execute_result"
    }
   ],
   "source": [
    "token = 'THIS-IS-MY-API-KEY'\n",
    "r = requests.get(endpoint + \"/secret\", headers={\"Authorization\": f\"Bearer {token}\"})\n",
    "r.json()"
   ]
  },
  {
   "cell_type": "code",
   "execution_count": null,
   "metadata": {},
   "outputs": [],
   "source": [
    "# headers {'authorization: {Bearer THIS-IS-MY-API-KEY}'}"
   ]
  }
 ],
 "metadata": {
  "kernelspec": {
   "display_name": "pillow",
   "language": "python",
   "name": "python3"
  },
  "language_info": {
   "codemirror_mode": {
    "name": "ipython",
    "version": 3
   },
   "file_extension": ".py",
   "mimetype": "text/x-python",
   "name": "python",
   "nbconvert_exporter": "python",
   "pygments_lexer": "ipython3",
   "version": "3.10.9"
  },
  "orig_nbformat": 4,
  "vscode": {
   "interpreter": {
    "hash": "d56a1d5c41f59a7951809e0e43760220df0e79b297dd0090cf88b3854f685f3a"
   }
  }
 },
 "nbformat": 4,
 "nbformat_minor": 2
}
