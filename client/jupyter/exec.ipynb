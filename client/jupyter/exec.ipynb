{
 "cells": [
  {
   "cell_type": "code",
   "execution_count": 6,
   "metadata": {},
   "outputs": [
    {
     "name": "stdout",
     "output_type": "stream",
     "text": [
      "{'bills': [{'congress': 117, 'latestAction': {'actionDate': '2023-01-05', 'text': 'Became Public Law No: 117-329.'}, 'number': '897', 'originChamber': 'House', 'originChamberCode': 'H', 'title': 'Agua Caliente Land Exchange Fee to Trust Confirmation Act', 'type': 'HR', 'updateDate': '2023-02-10', 'updateDateIncludingText': '2023-02-10T00:41:12Z', 'url': 'https://api.congress.gov/v3/bill/117/hr/897?format=json'}], 'pagination': {'count': 9698, 'next': 'https://api.congress.gov/v3/bill/117/hr?sort=&offset=1&limit=1&format=json'}, 'request': {'billType': 'hr', 'congress': '117', 'contentType': 'application/json', 'format': 'json'}}\n"
     ]
    }
   ],
   "source": [
    "import sys\n",
    "sys.path.append('..')\n",
    "from src.client import Client\n",
    "client = Client()\n",
    "response = client.bills(117, 'hr', limit=1)\n",
    "print(response)"
   ]
  }
 ],
 "metadata": {
  "kernelspec": {
   "display_name": "pillow",
   "language": "python",
   "name": "python3"
  },
  "language_info": {
   "codemirror_mode": {
    "name": "ipython",
    "version": 3
   },
   "file_extension": ".py",
   "mimetype": "text/x-python",
   "name": "python",
   "nbconvert_exporter": "python",
   "pygments_lexer": "ipython3",
   "version": "3.10.9"
  },
  "orig_nbformat": 4,
  "vscode": {
   "interpreter": {
    "hash": "d56a1d5c41f59a7951809e0e43760220df0e79b297dd0090cf88b3854f685f3a"
   }
  }
 },
 "nbformat": 4,
 "nbformat_minor": 2
}
