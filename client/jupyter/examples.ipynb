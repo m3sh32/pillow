{
 "cells": [
  {
   "cell_type": "code",
   "execution_count": 3,
   "metadata": {},
   "outputs": [],
   "source": [
    "from os import getenv, getcwd\n",
    "from dotenv import load_dotenv\n",
    "def load_api_key_from_env():\n",
    "    load_dotenv(getcwd())\n",
    "    api_key = getenv('API_KEY', default='')\n",
    "    return api_key\n"
   ]
  },
  {
   "cell_type": "code",
   "execution_count": 20,
   "metadata": {},
   "outputs": [
    {
     "name": "stdout",
     "output_type": "stream",
     "text": [
      "\u001b[1;32m200 OK\u001b[0m\n",
      "Headers: \u001b[1;31m[('Date', 'Sat, 11 Feb 2023 13:44:15 GMT'), ('Content-Type', 'application/json'), ('Content-Length', '4410'), ('Connection', 'keep-alive'), ('Vary', 'Accept-Encoding'), ('Access-Control-Allow-Origin', '*'), ('Age', '0'), ('Cache-Control', 'max-age=900'), ('Cf-Cache-Status', 'DYNAMIC'), ('Cf-Ray', '797d84a7ddbcebfa-SEA'), ('Expires', 'Sat, 11 Feb 2023 13:52:12 GMT'), ('Set-Cookie', '__cf_bm=vYGO3VH1mHL6XD7urvHVBTdn9u00cj09i6BBaSOOH.U-1676123055-0-AQ1fiKDKMrln3XsZMSzrvtwZyo7XHaJkNqGgiCvPoaa0PoTh7sIm3/el36Fo1p5QX3xk0ebT4+h3mSj6KpO6Xcg=; path=/; expires=Sat, 11-Feb-23 14:14:15 GMT; domain=.congress.gov; HttpOnly; SameSite=None'), ('Strict-Transport-Security', 'max-age=31536000; preload'), ('Vary', 'Accept-Encoding'), ('Vary', 'Accept'), ('Via', 'http/1.1 api-umbrella (ApacheTrafficServer [cMsSf ])'), ('X-Cache', 'MISS'), ('X-Ratelimit-Limit', '1000'), ('X-Ratelimit-Remaining', '982'), ('X-Vcap-Request-Id', '3fbd9fa4-816b-46d0-65e7-901157acc19f'), ('X-Frame-Options', 'DENY'), ('X-Content-Type-Options', 'nosniff'), ('X-XSS-Protection', '1; mode=block')]\u001b[0m \n",
      "\n",
      "JSON body: \u001b[1;34mb'{\\n    \"bill\": {\\n        \"actions\": {\\n            \"count\": 74,\\n            \"url\": \"https://api.congress.gov/v3/bill/117/hr/3076/actions?format=json\"\\n        },\\n        \"amendments\": {\\n            \"count\": 48,\\n            \"url\": \"https://api.congress.gov/v3/bill/117/hr/3076/amendments?format=json\"\\n        },\\n        \"cboCostEstimates\": [\\n            {\\n                \"description\": \"As ordered reported by the House Committee on Oversight and Reform on May 13, 2021\\\\n\",\\n                \"pubDate\": \"2021-07-14T17:27:00Z\",\\n                \"title\": \"H.R. 3076, Postal Service Reform Act of 2021\",\\n                \"url\": \"https://www.cbo.gov/publication/57356\"\\n            },\\n            {\\n                \"description\": \"As Posted on February 3, 2022,\\\\nand as Amended by Amendment #1, the Manager\\'s Amendment, as Posted on February 4, 2022\\\\n\",\\n                \"pubDate\": \"2022-02-04T18:03:00Z\",\\n                \"title\": \"Estimated Budgetary Effects of Rules Committee Print 117-32 for H.R. 3076, the Postal Service Reform Act of 2022\",\\n                \"url\": \"https://www.cbo.gov/publication/57821\"\\n            }\\n        ],\\n        \"committeeReports\": [\\n            {\\n                \"citation\": \"H. Rept. 117-89,Part 1\",\\n                \"url\": \"https://api.congress.gov/v3/committee-report/117/HRPT/89?format=json\"\\n            },\\n            {\\n                \"citation\": \"H. Rept. 117-89,Part 2\",\\n                \"url\": \"https://api.congress.gov/v3/committee-report/117/HRPT/89?format=json\"\\n            }\\n        ],\\n        \"committees\": {\\n            \"count\": 3,\\n            \"url\": \"https://api.congress.gov/v3/bill/117/hr/3076/committees?format=json\"\\n        },\\n        \"congress\": 117,\\n        \"constitutionalAuthorityStatementText\": \"<pre>\\\\n[Congressional Record Volume 167, Number 81 (Tuesday, May 11, 2021)]\\\\n[House]\\\\nFrom the Congressional Record Online through the Government Publishing Office [<a href=\\\\\"https://www.gpo.gov\\\\\">www.gpo.gov</a>]\\\\nBy Mrs. CAROLYN B. MALONEY of New York:\\\\nH.R. 3076.\\\\nCongress has the power to enact this legislation pursuant\\\\nto the following:\\\\nArticle I, Section I, Clause 18 (Necessary and Proper\\\\nClause)\\\\n[Page H2195]\\\\n</pre>\",\\n        \"cosponsors\": {\\n            \"count\": 102,\\n            \"countIncludingWithdrawnCosponsors\": 102,\\n            \"url\": \"https://api.congress.gov/v3/bill/117/hr/3076/cosponsors?format=json\"\\n        },\\n        \"introducedDate\": \"2021-05-11\",\\n        \"latestAction\": {\\n            \"actionDate\": \"2022-04-06\",\\n            \"text\": \"Became Public Law No: 117-108.\"\\n        },\\n        \"laws\": [\\n            {\\n                \"number\": \"117-108\",\\n                \"type\": \"Public Law\"\\n            }\\n        ],\\n        \"number\": \"3076\",\\n        \"originChamber\": \"House\",\\n        \"policyArea\": {\\n            \"name\": \"Government Operations and Politics\"\\n        },\\n        \"relatedBills\": {\\n            \"count\": 4,\\n            \"url\": \"https://api.congress.gov/v3/bill/117/hr/3076/relatedbills?format=json\"\\n        },\\n        \"sponsors\": [\\n            {\\n                \"bioguideId\": \"M000087\",\\n                \"district\": 12,\\n                \"firstName\": \"CAROLYN\",\\n                \"fullName\": \"Rep. Maloney, Carolyn B. [D-NY-12]\",\\n                \"isByRequest\": \"N\",\\n                \"lastName\": \"MALONEY\",\\n                \"middleName\": \"B.\",\\n                \"party\": \"D\",\\n                \"state\": \"NY\",\\n                \"url\": \"https://api.congress.gov/v3/member/M000087?format=json\"\\n            }\\n        ],\\n        \"subjects\": {\\n            \"count\": 17,\\n            \"url\": \"https://api.congress.gov/v3/bill/117/hr/3076/subjects?format=json\"\\n        },\\n        \"summaries\": {\\n            \"count\": 5,\\n            \"url\": \"https://api.congress.gov/v3/bill/117/hr/3076/summaries?format=json\"\\n        },\\n        \"textVersions\": {\\n            \"count\": 7,\\n            \"url\": \"https://api.congress.gov/v3/bill/117/hr/3076/text?format=json\"\\n        },\\n        \"title\": \"Postal Service Reform Act of 2022\",\\n        \"titles\": {\\n            \"count\": 14,\\n            \"url\": \"https://api.congress.gov/v3/bill/117/hr/3076/titles?format=json\"\\n        },\\n        \"type\": \"HR\",\\n        \"updateDate\": \"2023-02-10T23:41:15Z\",\\n        \"updateDateIncludingText\": \"2023-02-10T23:41:15Z\"\\n    },\\n    \"request\": {\\n        \"billNumber\": \"3076\",\\n        \"billType\": \"hr\",\\n        \"congress\": \"117\",\\n        \"contentType\": \"application/json\",\\n        \"format\": \"json\"\\n    }\\n}'\n"
     ]
    }
   ],
   "source": [
    "import http.client\n",
    "api_key = load_api_key_from_env()\n",
    "path = '/v3/bill/117/hr/3076/?api_key=' + api_key\n",
    "connection = http.client.HTTPSConnection(host='api.congress.gov') \n",
    "connection.request(method='GET', url=path)\n",
    "response = connection.getresponse()\n",
    "headers = response.getheaders()\n",
    "response_body = response.read()\n",
    "connection.close()\n",
    "print(f'\\x1b[1;32m{response.status} {response.reason}\\x1b[0m')\n",
    "print(f\"Headers: \\x1b[1;31m{headers}\\x1b[0m \\n\")\n",
    "print(f'JSON body: \\x1b[1;34m{response_body}')"
   ]
  }
 ],
 "metadata": {
  "kernelspec": {
   "display_name": "pillow",
   "language": "python",
   "name": "python3"
  },
  "language_info": {
   "codemirror_mode": {
    "name": "ipython",
    "version": 3
   },
   "file_extension": ".py",
   "mimetype": "text/x-python",
   "name": "python",
   "nbconvert_exporter": "python",
   "pygments_lexer": "ipython3",
   "version": "3.10.9"
  },
  "orig_nbformat": 4,
  "vscode": {
   "interpreter": {
    "hash": "d56a1d5c41f59a7951809e0e43760220df0e79b297dd0090cf88b3854f685f3a"
   }
  }
 },
 "nbformat": 4,
 "nbformat_minor": 2
}
