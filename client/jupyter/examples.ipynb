{
 "cells": [
  {
   "cell_type": "code",
   "execution_count": 3,
   "metadata": {},
   "outputs": [],
   "source": [
    "from os import getenv, getcwd\n",
    "from dotenv import load_dotenv\n",
    "def load_api_key_from_env():\n",
    "    load_dotenv(getcwd())\n",
    "    api_key = getenv('API_KEY', default='')\n",
    "    return api_key\n"
   ]
  },
  {
   "cell_type": "code",
   "execution_count": 23,
   "metadata": {},
   "outputs": [
    {
     "name": "stdout",
     "output_type": "stream",
     "text": [
      "\u001b[1;32m200 OK\u001b[0m\n",
      "Headers: \u001b[1;31m[('Date', 'Sun, 12 Feb 2023 15:35:30 GMT'), ('Content-Type', 'application/json'), ('Content-Length', '1044'), ('Connection', 'keep-alive'), ('Vary', 'Accept-Encoding'), ('Access-Control-Allow-Origin', '*'), ('Age', '2'), ('Cache-Control', 'max-age=900'), ('Cf-Cache-Status', 'DYNAMIC'), ('Cf-Ray', '798664f28de6eb4f-SEA'), ('Expires', 'Sun, 12 Feb 2023 15:50:30 GMT'), ('Set-Cookie', '__cf_bm=EBlKEoHjau73zL1HBKXC3huSZfDaB9xlYOxhRC8eNnM-1676216130-0-AaazOfKtdzY++ztvSd7fIBuT1r7vLNeBEh6VR3W5/iLtYj3rJoicHeFzpG/6DE4tvzMvM6InNfkgWkYS8M5vl7k=; path=/; expires=Sun, 12-Feb-23 16:05:30 GMT; domain=.congress.gov; HttpOnly; SameSite=None'), ('Strict-Transport-Security', 'max-age=31536000; preload'), ('Vary', 'Accept-Encoding'), ('Vary', 'Accept'), ('Via', 'http/1.1 api-umbrella (ApacheTrafficServer [cMsSf ])'), ('X-Cache', 'MISS'), ('X-Ratelimit-Limit', '1000'), ('X-Ratelimit-Remaining', '999'), ('X-Vcap-Request-Id', 'c0775907-826a-4488-40d9-568aea7ae458'), ('X-Frame-Options', 'DENY'), ('X-Content-Type-Options', 'nosniff'), ('X-XSS-Protection', '1; mode=block')]\u001b[0m \n",
      "\n",
      "JSON body: \u001b[1;34mb'{\\n    \"bills\": [\\n        {\\n            \"congress\": 118,\\n            \"latestAction\": {\\n                \"actionDate\": \"2023-02-10\",\\n                \"text\": \"Referred to the Subcommittee on Economic Development, Public Buildings, and Emergency Management.\"\\n            },\\n            \"number\": \"964\",\\n            \"originChamber\": \"House\",\\n            \"originChamberCode\": \"H\",\\n            \"title\": \"To direct the Administrator of General Services to ensure that the design of public buildings in the United States adheres to the guiding principles for Federal architecture, and for other purposes.\",\\n            \"type\": \"HR\",\\n            \"updateDate\": \"2023-02-11\",\\n            \"updateDateIncludingText\": \"2023-02-11T08:13:55Z\",\\n            \"url\": \"https://api.congress.gov/v3/bill/118/hr/964?format=json\"\\n        }\\n    ],\\n    \"pagination\": {\\n        \"count\": 392689,\\n        \"next\": \"https://api.congress.gov/v3/bill?offset=1&limit=1&format=json\"\\n    },\\n    \"request\": {\\n        \"contentType\": \"application/json\",\\n        \"format\": \"json\"\\n    }\\n}'\n"
     ]
    }
   ],
   "source": [
    "import http.client\n",
    "api_key = load_api_key_from_env()\n",
    "path = '/v3/bill/?limit=1&api_key=' + api_key\n",
    "connection = http.client.HTTPSConnection(host='api.congress.gov') \n",
    "connection.request(method='GET', url=path)\n",
    "response = connection.getresponse()\n",
    "headers = response.getheaders()\n",
    "response_body = response.read()\n",
    "connection.close()\n",
    "print(f'\\x1b[1;32m{response.status} {response.reason}\\x1b[0m')\n",
    "print(f\"Headers: \\x1b[1;31m{headers}\\x1b[0m \\n\")\n",
    "print(f'JSON body: \\x1b[1;34m{response_body}')"
   ]
  }
 ],
 "metadata": {
  "kernelspec": {
   "display_name": "pillow",
   "language": "python",
   "name": "python3"
  },
  "language_info": {
   "codemirror_mode": {
    "name": "ipython",
    "version": 3
   },
   "file_extension": ".py",
   "mimetype": "text/x-python",
   "name": "python",
   "nbconvert_exporter": "python",
   "pygments_lexer": "ipython3",
   "version": "3.10.9"
  },
  "orig_nbformat": 4,
  "vscode": {
   "interpreter": {
    "hash": "d56a1d5c41f59a7951809e0e43760220df0e79b297dd0090cf88b3854f685f3a"
   }
  }
 },
 "nbformat": 4,
 "nbformat_minor": 2
}
